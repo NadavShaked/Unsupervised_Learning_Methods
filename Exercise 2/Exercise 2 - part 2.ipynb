{
 "cells": [
  {
   "attachments": {},
   "cell_type": "markdown",
   "metadata": {},
   "source": [
    "![](https://i.imgur.com/qkg2E2D.png)\n",
    "\n",
    "# UnSupervised Learning Methods\n",
    "\n",
    "## Exercise 002 - Part II\n",
    "\n",
    "> Notebook by:\n",
    "> - Royi Avital RoyiAvital@fixelalgorithms.com\n",
    "\n",
    "## Revision History\n",
    "\n",
    "| Version | Date       | User        |Content / Changes                                                   |\n",
    "|---------|------------|-------------|--------------------------------------------------------------------|\n",
    "| 0.1.000 | 31/03/2023 | Royi Avital | First version                                                      |\n",
    "|         |            |             |                                                                    |"
   ]
  },
  {
   "attachments": {},
   "cell_type": "markdown",
   "metadata": {},
   "source": [
    "[![Open In Colab](https://colab.research.google.com/assets/colab-badge.svg)](https://colab.research.google.com/github/FixelAlgorithmsTeam/FixelCourses/blob/master/UnSupervisedLearningMethods/2023_03/Exercise0002Part002.ipynb)"
   ]
  },
  {
   "cell_type": "code",
   "execution_count": null,
   "metadata": {
    "ExecuteTime": {
     "end_time": "2023-05-17T15:31:34.792486Z",
     "start_time": "2023-05-17T15:31:31.001394Z"
    }
   },
   "outputs": [],
   "source": [
    "# Import Packages\n",
    "\n",
    "# General Tools\n",
    "import numpy as np\n",
    "import scipy as sp\n",
    "\n",
    "# Machine Learning\n",
    "\n",
    "# Computer Vision\n",
    "from skimage.color import rgb2lab\n",
    "from skimage.io import imread\n",
    "from skimage.segmentation import mark_boundaries\n",
    "\n",
    "# Miscellaneous\n",
    "import os\n",
    "import math\n",
    "from platform import python_version\n",
    "import random\n",
    "import time\n",
    "import urllib.request\n",
    "\n",
    "# Typing\n",
    "from typing import Callable, List, Tuple, Union\n",
    "\n",
    "# Visualization\n",
    "import matplotlib.pyplot as plt\n",
    "import seaborn as sns\n",
    "\n",
    "# Jupyter\n",
    "from IPython import get_ipython\n",
    "from IPython.display import Image, display\n",
    "from ipywidgets import Dropdown, FloatSlider, interact, IntSlider, Layout"
   ]
  },
  {
   "attachments": {},
   "cell_type": "markdown",
   "metadata": {},
   "source": [
    "## Notations\n",
    "\n",
    "* <font color='red'>(**?**)</font> Question to answer interactively.\n",
    "* <font color='blue'>(**!**)</font> Simple task to add code for the notebook.\n",
    "* <font color='green'>(**@**)</font> Optional / Extra self practice.\n",
    "* <font color='brown'>(**#**)</font> Note / Useful resource / Food for thought."
   ]
  },
  {
   "cell_type": "code",
   "execution_count": null,
   "metadata": {
    "ExecuteTime": {
     "end_time": "2023-05-17T15:31:34.853738Z",
     "start_time": "2023-05-17T15:31:34.794354Z"
    }
   },
   "outputs": [],
   "source": [
    "# Configuration\n",
    "%matplotlib inline\n",
    "\n",
    "seedNum = 512\n",
    "np.random.seed(seedNum)\n",
    "random.seed(seedNum)\n",
    "\n",
    "# sns.set_theme() #>! Apply SeaBorn theme\n",
    "\n",
    "runInGoogleColab = 'google.colab' in str(get_ipython())"
   ]
  },
  {
   "cell_type": "code",
   "execution_count": null,
   "metadata": {
    "ExecuteTime": {
     "end_time": "2023-05-17T15:31:34.854303Z",
     "start_time": "2023-05-17T15:31:34.837571Z"
    }
   },
   "outputs": [],
   "source": [
    "# Constants\n",
    "\n",
    "DATA_FILE_URL   = r'https://github.com/FixelAlgorithmsTeam/FixelCourses/raw/master/MachineLearningMethod/16_ParametricClustering/Fruits.jpeg'\n",
    "DATA_FILE_NAME  = r'Fruits.jpeg'"
   ]
  },
  {
   "attachments": {},
   "cell_type": "markdown",
   "metadata": {},
   "source": [
    "## Guidelines\n",
    "\n",
    " - Fill the full names of the team memebers in the `Team Members` section.\n",
    " - Answer all questions within the Jupyter Notebook.\n",
    " - Open questions are in part I of the exercise.\n",
    " - Coding based questions are in the subsequent notebooks.\n",
    " - Use MarkDown + MathJaX + Code to answer.\n",
    " - Submission in groups (Single submission per group).\n",
    " - You may and _should_ use the forums for question.\n",
    " - Good Luck!"
   ]
  },
  {
   "attachments": {},
   "cell_type": "markdown",
   "metadata": {},
   "source": [
    "* <font color='brown'>(**#**)</font> The `Import Packages` section above imports most needed tools to apply the work. Please use it.\n",
    "* <font color='brown'>(**#**)</font> You may replace the suggested functions to use with functions from other packages.\n",
    "* <font color='brown'>(**#**)</font> Whatever not said explicitly to implement maybe used by a 3rd party packages."
   ]
  },
  {
   "attachments": {},
   "cell_type": "markdown",
   "metadata": {},
   "source": [
    "## Team Members\n",
    "\n",
    "- `Nadav_Talmon_203663950`.\n",
    "- `Nadav_Shaked_312494925`.\n",
    "- `Adi_Rosenthal_316550797`."
   ]
  },
  {
   "attachments": {},
   "cell_type": "markdown",
   "metadata": {},
   "source": [
    "## Generate / Load Data"
   ]
  },
  {
   "cell_type": "code",
   "execution_count": null,
   "metadata": {
    "ExecuteTime": {
     "end_time": "2023-05-17T15:31:36.073001Z",
     "start_time": "2023-05-17T15:31:34.849504Z"
    }
   },
   "outputs": [],
   "source": [
    "# Download Data\n",
    "# This section downloads data from the given URL if needed.\n",
    "\n",
    "if not os.path.exists(DATA_FILE_NAME):\n",
    "    urllib.request.urlretrieve(DATA_FILE_URL, DATA_FILE_NAME)"
   ]
  },
  {
   "attachments": {},
   "cell_type": "markdown",
   "metadata": {},
   "source": [
    "## 6. Clustering by K-Means\n",
    "\n",
    "### 6.1. K-Means Algorithm\n",
    "\n",
    "In this section we'll implement 3 functions related to the K-Means:\n",
    "\n",
    "1. `InitKMeans()` - Given a data set and number of clusters it sets the initialization of the `K-Means` algorithm.  \n",
    "It should support both random initialization (Samples from data) and the [`K-Means++`](https://en.wikipedia.org/wiki/K-means%2B%2B) initialization.\n",
    "2. `CalcKMeansObj()` - Given a data set and set of centroids it calculates the value of the K-Means objective function (Usually called `inertia`).  \n",
    "   The objective function sum of squared distances of samples to their closest cluster center.\n",
    "3. `KMeans()` - Given a data set and initialization applies the K-Means algorithm.  \n",
    "The distance used in this variant is the Euclidean Distance based.\n",
    "\n",
    "* <font color='brown'>(**#**)</font> Implementation should be efficient (Memory and operations). Total run time expected to be **less than 60 seconds**.\n",
    "\n"
   ]
  },
  {
   "cell_type": "code",
   "execution_count": null,
   "metadata": {
    "ExecuteTime": {
     "end_time": "2023-05-17T15:31:36.086182Z",
     "start_time": "2023-05-17T15:31:36.081030Z"
    }
   },
   "outputs": [],
   "source": [
    "def k_means_plus_plus_init(mX, K, seedNum):\n",
    "    np.random.seed(seedNum)\n",
    "    centroids = []\n",
    "    new_centroid = np.array(mX[np.random.choice(mX.shape[0])])\n",
    "    centroids.append(new_centroid.tolist())\n",
    "    m_distance = None\n",
    "\n",
    "    for k in range(1, K):\n",
    "        if m_distance is not None:\n",
    "            m_distance = np.concatenate((m_distance, np.linalg.norm(mX - new_centroid, axis=1).reshape(1, -1)))\n",
    "        else:\n",
    "            m_distance = np.linalg.norm(mX - new_centroid, axis=1).reshape(1, -1)\n",
    "        distances_min = np.min(m_distance, axis=0)\n",
    "        probs = distances_min / np.sum(distances_min)\n",
    "        index = np.random.choice(mX.shape[0], p=probs)\n",
    "        new_centroid = mX[index]\n",
    "        centroids.append(new_centroid.tolist())\n",
    "\n",
    "    return np.array(centroids)"
   ]
  },
  {
   "attachments": {},
   "cell_type": "markdown",
   "metadata": {},
   "source": [
    "> Royi: You could improve performance greatly by using `cdist()`.\n",
    "> Royi: ❌, It draws according to the probability with respect ot the squared eculidean distance.    \n",
    "> Royi: <font color='red'>-1</font>."
   ]
  },
  {
   "cell_type": "code",
   "execution_count": null,
   "metadata": {
    "ExecuteTime": {
     "end_time": "2023-05-17T15:31:36.117365Z",
     "start_time": "2023-05-17T15:31:36.090657Z"
    }
   },
   "outputs": [],
   "source": [
    "# ===========================Fill This===========================#\n",
    "def InitKMeans(mX: np.ndarray, K: int, initMethod: int = 0, seedNum: int = 123) -> np.ndarray:\n",
    "    '''\n",
    "    K-Means algorithm initialization.\n",
    "    Args:\n",
    "        mX          - Input data with shape N x d.\n",
    "        K           - Number of clusters.\n",
    "        initMethod  - Initialization method: 0 - Random, 1 - K-Means++.\n",
    "        seedNum     - Seed number used.\n",
    "    Output:\n",
    "        mC          - The initial centroids with shape K x d.\n",
    "    Remarks:\n",
    "        - Given the same parameters, including the `seedNum` the algorithm must be reproducible.\n",
    "    '''\n",
    "\n",
    "    np.random.seed(seedNum)\n",
    "    if initMethod == 0:\n",
    "        mC = mX[np.random.choice(range(len(mX)), size=K)]\n",
    "    else:\n",
    "        mC = k_means_plus_plus_init(mX, K, seedNum)\n",
    "\n",
    "    return mC\n",
    "\n",
    "#===============================================================#"
   ]
  },
  {
   "cell_type": "code",
   "execution_count": null,
   "metadata": {
    "ExecuteTime": {
     "end_time": "2023-05-17T15:31:36.118018Z",
     "start_time": "2023-05-17T15:31:36.105932Z"
    }
   },
   "outputs": [],
   "source": [
    "# ===========================Fill This===========================#\n",
    "def CalcKMeansObj(mX: np.ndarray, mC: np.ndarray) -> float:\n",
    "    '''\n",
    "    K-Means algorithm.\n",
    "    Args:\n",
    "        mX          - The data with shape N x d.\n",
    "        mC          - The centroids with shape K x d.\n",
    "    Output:\n",
    "        objVal      - The value of the objective function of the KMeans.\n",
    "    Remarks:\n",
    "        - The objective function uses the squared euclidean distance.\n",
    "    '''\n",
    "\n",
    "    m_distance = np.array([np.linalg.norm(mX - c, axis=1) for c in mC])\n",
    "    return np.min(m_distance, axis=0).sum()\n",
    "\n",
    "#===============================================================#"
   ]
  },
  {
   "cell_type": "code",
   "execution_count": null,
   "metadata": {
    "ExecuteTime": {
     "end_time": "2023-05-17T15:31:36.212725Z",
     "start_time": "2023-05-17T15:31:36.123368Z"
    }
   },
   "outputs": [],
   "source": [
    "# ===========================Fill This===========================#\n",
    "def KMeans(mX: np.ndarray, mC: np.ndarray, numIter: int = 1000, stopThr: float = 0) -> np.ndarray:\n",
    "    '''\n",
    "    K-Means algorithm.\n",
    "    Args:\n",
    "        mX          - Input data with shape N x d.\n",
    "        mC          - The initial centroids with shape K x d.\n",
    "        numIter     - Number of iterations.\n",
    "        stopThr     - Stopping threshold.\n",
    "    Output:\n",
    "        mC          - The final centroids with shape K x d.\n",
    "        vL          - The labels (0, 1, .., K - 1) per sample with shape (N, )\n",
    "        lO          - The objective value function per iterations (List).\n",
    "    Remarks:\n",
    "        - The maximum number of iterations must be `numIter`.\n",
    "        - If the objective value of the algorithm doesn't improve by at least `stopThr` the iterations should stop.\n",
    "    '''\n",
    "\n",
    "    i = 0\n",
    "    diff_val_obj = np.inf\n",
    "    prev_val_obj = np.inf\n",
    "    lO = []\n",
    "    while i < numIter and diff_val_obj > stopThr:\n",
    "        #print(\"iteration: \"+str(i))\n",
    "        lO.append(CalcKMeansObj(mX, mC))\n",
    "        #print(lO[-1])\n",
    "        m_distance = np.array([np.linalg.norm(mX - c, axis=1) for c in mC])\n",
    "        vL = np.argmin(m_distance, axis=0)\n",
    "        mC = np.array([mX[np.where(vL == k)].mean(axis=0) for k in range(len(mC))])\n",
    "\n",
    "        diff_val_obj = prev_val_obj - lO[-1]\n",
    "        prev_val_obj = lO[-1]\n",
    "        i += 1\n",
    "\n",
    "    return mC, vL, lO\n",
    "\n",
    "#===============================================================#"
   ]
  },
  {
   "attachments": {},
   "cell_type": "markdown",
   "metadata": {},
   "source": [
    "### 6.2. Super Pixels\n",
    "\n",
    "In this section we'll implement the Super Pixels segmentation algorithm.  \n",
    "The basic idea of the _super pixels_ segmentation is to cluster together pixels which share similar color and location.  \n",
    "Hence the features to cluster are the color values of the pixel and its coordinates.\n",
    "\n",
    "Your code should follow:\n",
    "\n",
    "1. Load the `Fruits.jpg` image into a NumPy array `mI` with shape `numRows x numCols x 3`.  \n",
    "   The image will be downloaded into the local folder automatically by a supplied code.  \n",
    "   If it doesn't work, look at the constant `DATA_FILE_NAME`.\n",
    "   You may use `SciKit Image`'s `imread()` (Imported above).\n",
    "2. Convert the image into the [LAB Color Space](https://en.wikipedia.org/wiki/CIELAB_color_space).  \n",
    "   **No need to implement the conversion manually**.  \n",
    "   You may use `SciKit Image`'s `rgb2lab()` (Imported above).\n",
    "3. Create the data array `mX` with shape `(numRows * numCols) x 5`.  \n",
    "   The features should include the LAB values and the row / column coordinates of each pixel.\n",
    "4. Scale the columns of data in a reasonable manner.\n",
    "5. Apply the K-Means algorithm on the data with `K-Means++` initialization.  \n",
    "   Set a reasonable number of clusters (Trial and error).\n",
    "   Set the parameters of the algorithm such that the algorithm stops on convergence (No change in centroids).\n",
    "6. Create a mask of the labels of the pixels at the size of the image.  \n",
    "   Display the results using `SciKit Image`'s `mark_boundaries()` (Imported above).\n",
    "7. Display the segmentation result.\n",
    "8. Display the objective function per iteration. Including the initialization.\n",
    "\n",
    "The output should look similar to:\n",
    "\n",
    "![](https://i.imgur.com/BS6sVXc.png)\n",
    "\n",
    "* <font color='brown'>(**#**)</font> Use different cells per steps.\n",
    "* <font color='brown'>(**#**)</font> Optimize the weights (Scaling)."
   ]
  },
  {
   "cell_type": "code",
   "execution_count": null,
   "metadata": {
    "ExecuteTime": {
     "end_time": "2023-05-17T15:31:36.288342Z",
     "start_time": "2023-05-17T15:31:36.134936Z"
    }
   },
   "outputs": [],
   "source": [
    "#===========================Fill This===========================#\n",
    "# 1. Load Image into `mI`.\n",
    "# 2. Convert to LAB (`mILab`).\n",
    "\n",
    "mI = imread(DATA_FILE_NAME)\n",
    "mILab = rgb2lab(mI)\n",
    "\n",
    "#===============================================================#"
   ]
  },
  {
   "cell_type": "code",
   "execution_count": null,
   "metadata": {
    "ExecuteTime": {
     "end_time": "2023-05-17T15:31:36.883942Z",
     "start_time": "2023-05-17T15:31:36.498886Z"
    }
   },
   "outputs": [],
   "source": [
    "#===========================Fill This===========================#\n",
    "# 1. Generate `mX` from `mILab`.\n",
    "# 2. Scale its columns in a reasonable way.\n",
    "\n",
    "rgb = mILab.reshape(mI.shape[0] * mI.shape[1], 3)\n",
    "ijs = np.array([[[i, j] for j in range(mI.shape[1])] for i in range(mI.shape[0])]).reshape(-1, 2)\n",
    "mX = np.concatenate((rgb, ijs), axis=1)\n",
    "\n",
    "#===============================================================#"
   ]
  },
  {
   "cell_type": "code",
   "execution_count": null,
   "metadata": {
    "ExecuteTime": {
     "end_time": "2023-05-17T15:32:54.191592Z",
     "start_time": "2023-05-17T15:31:36.888830Z"
    }
   },
   "outputs": [],
   "source": [
    "#===========================Fill This===========================#\n",
    "# 1. Apply K-Means clustering on `mX`.\n",
    "# 2. Build the mask from the labels.\n",
    "\n",
    "K = 40\n",
    "numIter = 1000\n",
    "stopThr = 0.0001\n",
    "k_plus_plus = 1\n",
    "mC = InitKMeans(mX, K, k_plus_plus)\n",
    "mC, vL, lO = KMeans(mX, mC, numIter, stopThr)\n",
    "mask_label = vL.reshape(mI.shape[:2]) \n",
    "mask = mark_boundaries(mI, mask_label)\n",
    "\n",
    "#===============================================================#"
   ]
  },
  {
   "cell_type": "code",
   "execution_count": null,
   "metadata": {
    "ExecuteTime": {
     "end_time": "2023-05-17T15:32:56.357069Z",
     "start_time": "2023-05-17T15:32:54.190800Z"
    }
   },
   "outputs": [],
   "source": [
    "#===========================Fill This===========================#\n",
    "# 1. Generate the super pixel boundaries form the mask.\n",
    "# 2. Display the results (Super Pixels Image, Objective function vs. iteration).\n",
    "\n",
    "# Make sure to show the objective function of the initialization in the graph.\n",
    "\n",
    "fig, ax = plt.subplots(figsize=(10, 10))\n",
    "ax.imshow(mask)\n",
    "plt.show()\n",
    "\n",
    "# Display objective function per iteration\n",
    "plt.plot(lO)\n",
    "plt.xlabel('Iteration')\n",
    "plt.ylabel('Objective Function')\n",
    "if k_plus_plus:\n",
    "    objective_func = \"k-means++\"\n",
    "else:\n",
    "    objective_func = \"random\"\n",
    "plt.title('K-Means Objective Function - ' + objective_func)\n",
    "plt.show()\n",
    "\n",
    "#===============================================================#"
   ]
  }
 ],
 "metadata": {
  "kernelspec": {
   "display_name": "Python 3 (ipykernel)",
   "language": "python",
   "name": "python3"
  },
  "language_info": {
   "codemirror_mode": {
    "name": "ipython",
    "version": 3
   },
   "file_extension": ".py",
   "mimetype": "text/x-python",
   "name": "python",
   "nbconvert_exporter": "python",
   "pygments_lexer": "ipython3",
   "version": "3.11.3"
  },
  "toc": {
   "base_numbering": 1,
   "nav_menu": {},
   "number_sections": false,
   "sideBar": true,
   "skip_h1_title": false,
   "title_cell": "Table of Contents",
   "title_sidebar": "Contents",
   "toc_cell": false,
   "toc_position": {},
   "toc_section_display": true,
   "toc_window_display": true
  },
  "varInspector": {
   "cols": {
    "lenName": 16,
    "lenType": 16,
    "lenVar": 40
   },
   "kernels_config": {
    "python": {
     "delete_cmd_postfix": "",
     "delete_cmd_prefix": "del ",
     "library": "var_list.py",
     "varRefreshCmd": "print(var_dic_list())"
    },
    "r": {
     "delete_cmd_postfix": ") ",
     "delete_cmd_prefix": "rm(",
     "library": "var_list.r",
     "varRefreshCmd": "cat(var_dic_list()) "
    }
   },
   "types_to_exclude": [
    "module",
    "function",
    "builtin_function_or_method",
    "instance",
    "_Feature"
   ],
   "window_display": false
  },
  "vscode": {
   "interpreter": {
    "hash": "39577bab1f263e62e0b74f5b8086bd735049bf4751f6562b2d4b2969dc308293"
   }
  }
 },
 "nbformat": 4,
 "nbformat_minor": 4
}
