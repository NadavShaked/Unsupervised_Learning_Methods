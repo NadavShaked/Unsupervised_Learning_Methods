{
  "cells": [
    {
      "attachments": {},
      "cell_type": "markdown",
      "metadata": {
        "id": "Zy0HWRl0jGL6"
      },
      "source": [
        "![](https://i.imgur.com/qkg2E2D.png)\n",
        "\n",
        "# UnSupervised Learning Methods\n",
        "\n",
        "## Exercise 004 - Part II\n",
        "\n",
        "> Notebook by:\n",
        "> - Royi Avital RoyiAvital@fixelalgorithms.com\n",
        "\n",
        "## Revision History\n",
        "\n",
        "| Version | Date       | User        |Content / Changes                                                   |\n",
        "|---------|------------|-------------|--------------------------------------------------------------------|\n",
        "| 0.1.000 | 16/06/2023 | Royi Avital | First version                                                      |"
      ]
    },
    {
      "attachments": {},
      "cell_type": "markdown",
      "metadata": {
        "id": "9JeLBUFWjGL9"
      },
      "source": [
        "[![Open In Colab](https://colab.research.google.com/assets/colab-badge.svg)](https://colab.research.google.com/github/FixelAlgorithmsTeam/FixelCourses/blob/master/UnSupervisedLearningMethods/2023_03/Exercise0004Part002.ipynb)"
      ]
    },
    {
      "cell_type": "code",
      "execution_count": null,
      "metadata": {
        "ExecuteTime": {
          "end_time": "2022-02-02T09:30:06.492269Z",
          "start_time": "2022-02-02T09:30:06.220934Z"
        },
        "id": "E4m3mCOKjGL9"
      },
      "outputs": [],
      "source": [
        "# Import Packages\n",
        "\n",
        "# General Tools\n",
        "import numpy as np\n",
        "import scipy as sp\n",
        "import pandas as pd\n",
        "\n",
        "from scipy.spatial.distance import cdist\n",
        "\n",
        "# Machine Learning\n",
        "from sklearn.datasets import make_s_curve, make_swiss_roll\n",
        "\n",
        "# Computer Vision\n",
        "\n",
        "# Miscellaneous\n",
        "import os\n",
        "import math\n",
        "from platform import python_version\n",
        "import random\n",
        "import time\n",
        "import urllib.request\n",
        "\n",
        "# Typing\n",
        "from typing import Callable, List, Tuple, Union\n",
        "\n",
        "# Visualization\n",
        "import matplotlib.pyplot as plt\n",
        "import seaborn as sns\n",
        "\n",
        "# Jupyter\n",
        "from IPython import get_ipython\n",
        "from IPython.display import Image, display\n",
        "from ipywidgets import Dropdown, FloatSlider, interact, IntSlider, Layout"
      ]
    },
    {
      "attachments": {},
      "cell_type": "markdown",
      "metadata": {
        "id": "W8G4wZD_jGL-"
      },
      "source": [
        "## Notations\n",
        "\n",
        "* <font color='red'>(**?**)</font> Question to answer interactively.\n",
        "* <font color='blue'>(**!**)</font> Simple task to add code for the notebook.\n",
        "* <font color='green'>(**@**)</font> Optional / Extra self practice.\n",
        "* <font color='brown'>(**#**)</font> Note / Useful resource / Food for thought."
      ]
    },
    {
      "cell_type": "code",
      "execution_count": null,
      "metadata": {
        "id": "vN5fVM4qjGL_"
      },
      "outputs": [],
      "source": [
        "# Configuration\n",
        "# %matplotlib inline\n",
        "\n",
        "seedNum = 512\n",
        "np.random.seed(seedNum)\n",
        "random.seed(seedNum)\n",
        "\n",
        "# sns.set_theme() #>! Apply SeaBorn theme\n",
        "\n",
        "runInGoogleColab = 'google.colab' in str(get_ipython())"
      ]
    },
    {
      "cell_type": "code",
      "execution_count": null,
      "metadata": {
        "id": "KjC68QFSjGL_"
      },
      "outputs": [],
      "source": [
        "# Constants\n",
        "\n",
        "DATA_FILE_URL   = r'None'\n",
        "DATA_FILE_NAME  = r'None'\n"
      ]
    },
    {
      "cell_type": "code",
      "execution_count": null,
      "metadata": {
        "id": "YqwPLUXfjGL_"
      },
      "outputs": [],
      "source": [
        "# Auxiliary Functions\n",
        "\n",
        "def GetData(MakeData: Callable, Nx: int, Ny: int) -> Tuple[np.ndarray, np.ndarray, np.ndarray, np.ndarray]:\n",
        "    mX, vCx = MakeData(Nx)\n",
        "    mY, vCy = MakeData(Ny)\n",
        "\n",
        "    return mX, mY, vCx, vCy\n",
        "\n",
        "def PlotTrainTestData(mX: np.ndarray, mY: np.ndarray, vCx: np.ndarray, vCy: np.ndarray, hA: plt.Axes, Is3DData: bool = False) -> None:\n",
        "    m = mX.min()\n",
        "    M = mX.max()\n",
        "\n",
        "    hA.scatter(*mX.T, s = 25, c = vCx, edgecolor = 'k', alpha = 1, label = 'Train', vmin = vCx.min(), vmax = vCx.max())\n",
        "    hA.scatter(*mY.T, s = 100, c = 'r', marker = '*', alpha = 1, label = 'Test')\n",
        "    hA.set_xlim([m, M])\n",
        "    hA.set_ylim([m, M])\n",
        "    if Is3DData:\n",
        "        hA.set_zlim([m, M])\n",
        "    hA.set_xlabel('$x_1$')\n",
        "    hA.set_ylabel('$x_2$')\n",
        "    if Is3DData:\n",
        "        hA.set_zlabel('$x_3$')\n",
        "    hA.legend()"
      ]
    },
    {
      "attachments": {},
      "cell_type": "markdown",
      "metadata": {
        "id": "HuBUiF0CjGMA"
      },
      "source": [
        "## Guidelines\n",
        "\n",
        " - Fill the full names and ID's of the team members in the `Team Members` section.\n",
        " - Answer all questions / tasks within the Jupyter Notebook.\n",
        " - Use MarkDown + MathJaX + Code to answer.\n",
        " - Verify the rendering on VS Code.\n",
        " - Submission in groups (Single submission per group).\n",
        " - You may and _should_ use the forums for questions.\n",
        " - Good Luck!"
      ]
    },
    {
      "attachments": {},
      "cell_type": "markdown",
      "metadata": {
        "id": "v6tMOMmOjGMA"
      },
      "source": [
        "* <font color='brown'>(**#**)</font> The `Import Packages` section above imports most needed tools to apply the work. Please use it.\n",
        "* <font color='brown'>(**#**)</font> You may replace the suggested functions to use with functions from other packages.\n",
        "* <font color='brown'>(**#**)</font> Whatever not said explicitly to implement maybe used by a 3rd party packages.\n",
        "* <font color='brown'>(**#**)</font> The total run time of this notebook must be **lower than 30 [Sec]**."
      ]
    },
    {
      "attachments": {},
      "cell_type": "markdown",
      "metadata": {
        "id": "b2spgiA2jGMA"
      },
      "source": [
        "## Team Members\n",
        "\n",
        "- Nadav_Talmon_203663950\n",
        "- Nadav_Shaked_312494925\n",
        "- Adi_Rosenthal_316550797"
      ]
    },
    {
      "attachments": {},
      "cell_type": "markdown",
      "metadata": {
        "id": "gNtZ5UItjGMA"
      },
      "source": [
        "## Generate / Load Data"
      ]
    },
    {
      "cell_type": "code",
      "execution_count": null,
      "metadata": {
        "id": "XlUAdhJpjGMA"
      },
      "outputs": [],
      "source": [
        "# Download Data\n",
        "# This section downloads data from the given URL if needed.\n",
        "\n",
        "if (DATA_FILE_NAME != 'None') and (not os.path.exists(DATA_FILE_NAME)):\n",
        "    urllib.request.urlretrieve(DATA_FILE_URL, DATA_FILE_NAME)"
      ]
    },
    {
      "attachments": {},
      "cell_type": "markdown",
      "metadata": {
        "id": "N09u9zkRjGMB"
      },
      "source": [
        "## 7. MDS\n",
        "\n",
        "### 7.1. Classic MDS Algorithm\n",
        "\n",
        "In this section we'll implement a SciKit Learn API compatible class for the Classic MDS.\n",
        "\n",
        "The class should implement the following methods:\n",
        "\n",
        "1. `__init____()` - The object constructor by the encoder dimension.\n",
        "2. `fit()` - Given a data set ($\\boldsymbol{D}_{xx}$) builds the encoder.\n",
        "3. `transform()` - Applies the encoding on the input data ($\\boldsymbol{D}_{xy}$) in out of sample manner.\n",
        "4. `fit_transform()` - Given a data set ($\\boldsymbol{D}_{xx}$) builds the encoder and applies the encoding.\n",
        "\n",
        "* <font color='brown'>(**#**)</font> Pay attention to data structure (`Nx x Nx` / `Nx x Ny`).\n",
        "* <font color='brown'>(**#**)</font> Do not use any loops in you implementation."
      ]
    },
    {
      "cell_type": "code",
      "execution_count": null,
      "metadata": {
        "id": "wPwwzRwIjGMB"
      },
      "outputs": [],
      "source": [
        "class CMDS():\n",
        "    def __init__(self, d: int = 2):\n",
        "        '''\n",
        "        Constructing the object.\n",
        "        Args:\n",
        "            d - Number of dimensions of the encoder output.\n",
        "        '''\n",
        "        # ===========================Fill This===========================#\n",
        "        # 1. Keep the model parameters.\n",
        "\n",
        "        self.d = d\n",
        "        self.Σ_d = None\n",
        "        self.v_d = None\n",
        "        self.mDxx_row_mean = None\n",
        "        self.encoder = None\n",
        "        self.mDxx = None\n",
        "\n",
        "        # ===============================================================#\n",
        "\n",
        "    def fit(self, mDxx: np.ndarray):\n",
        "        '''\n",
        "        Fitting model parameters to the input.\n",
        "        Args:\n",
        "            mDxx - Input data (Distance matrix) with shape Nx x Nx.\n",
        "        Output:\n",
        "            self\n",
        "        '''\n",
        "        # ===========================Fill This===========================#\n",
        "        # 1. Build the model encoder.\n",
        "\n",
        "        mDxxJ = mDxx - np.mean(mDxx, axis=0).reshape(-1, 1)\n",
        "        mJDxxJ = mDxxJ - np.mean(mDxxJ, axis=0).reshape(1, -1)\n",
        "        mKxx_centered = -0.5 * mJDxxJ\n",
        "\n",
        "        v_d, Σ_d_power2, _ = sp.sparse.linalg.svds(mKxx_centered, k=self.d)\n",
        "        self.Σ_d = np.diag(np.sqrt(Σ_d_power2))\n",
        "        self.v_d = v_d\n",
        "        self.mDxx_row_mean = np.mean(mDxx, axis=1).reshape(-1,1)\n",
        "        self.encoder = (self.Σ_d @ self.v_d.T).T\n",
        "        self.mDxx = mDxx\n",
        "\n",
        "        # ===============================================================#\n",
        "        return self\n",
        "\n",
        "    def transform(self, mDxy: np.ndarray) -> np.ndarray:\n",
        "        '''\n",
        "        Applies (Out of sample) encoding.\n",
        "        Args:\n",
        "            mDxy - Input data (Distance matrix) with shape Nx x Ny.\n",
        "        Output:\n",
        "            mZ - Low dimensional representation (embeddings) with shape Ny x d.\n",
        "        '''\n",
        "        # ===========================Fill This===========================#\n",
        "        # 1. Encode data using the model encoder.\n",
        "\n",
        "        k_xy_centered = mDxy - self.mDxx_row_mean\n",
        "        k_xy_centered = -0.5 * (k_xy_centered - np.mean(k_xy_centered, axis=0).reshape(1, -1))\n",
        "\n",
        "        mZ = (np.linalg.inv(self.Σ_d) @ self.v_d.T @ k_xy_centered).T\n",
        "\n",
        "        # ===============================================================#\n",
        "\n",
        "        return mZ\n",
        "\n",
        "    def fit_transform(self, mDxx: np.ndarray) -> np.ndarray:\n",
        "        '''\n",
        "        Applies encoding on the input.\n",
        "        Args:\n",
        "            mDxx - Input data (Distance matrix) with shape Nx x Nx.\n",
        "        Output:\n",
        "            mZ - Low dimensional representation (embeddings) with shape Nx x d.\n",
        "        '''\n",
        "        # ===========================Fill This===========================#\n",
        "        # 1. Encode data using the model encoder.\n",
        "\n",
        "        self.fit(mDxx)\n",
        "        mZ = self.encoder\n",
        "\n",
        "        # ===============================================================#\n",
        "\n",
        "        return mZ"
      ]
    },
    {
      "attachments": {},
      "cell_type": "markdown",
      "metadata": {
        "id": "MosJASCwjGMB"
      },
      "source": [
        "* <font color='red'>(**?**)</font> Will `fit()` and then `transform()` will match the result of `fit_transform()`?\n",
        "  Make sure you understand this before proceeding."
      ]
    },
    {
      "attachments": {},
      "cell_type": "markdown",
      "metadata": {
        "id": "tAIInGQFjGMB"
      },
      "source": [
        "### 7.2. Metric MDS Algorithm\n",
        "\n",
        "In this section we'll implement a SciKit Learn API compatible class for the Metric MDS.\n",
        "The implementation will assume the distance matrix is generated using the _Eculidean_ distance (**Not _Squared Euclidean_**).\n",
        "The solver will use the Majorization Minimization algorithm.\n",
        "\n",
        "The class should implement the following methods:\n",
        "\n",
        "1. `__init____()` - The object constructor by the encoder dimension.\n",
        "2. `fit()` - Given a data set ($\\boldsymbol{D}_{xx}$) initializes the data structures.\n",
        "3. `fit_transform()` - Given a data set ($\\boldsymbol{D}_{xx}$) builds the encoder and applies the encoding.\n",
        "\n",
        "* <font color='brown'>(**#**)</font> Pay attention to data structure (`Nx x Nx` / `Nx x Ny`).\n",
        "* <font color='brown'>(**#**)</font> Do not use any loops in you implementation beside the main MM loop.\n",
        "* <font color='brown'>(**#**)</font> Think about the difference in `transform()` and `fit_transform()` compared to `CMDS()` above."
      ]
    },
    {
      "cell_type": "code",
      "execution_count": null,
      "metadata": {
        "id": "C_On6bASjGMB"
      },
      "outputs": [],
      "source": [
        "class MMDS():\n",
        "    def __init__(self, d: int = 2, maxIter=500, ε=1e-3):\n",
        "        '''\n",
        "        Constructing the object.\n",
        "        Args:\n",
        "            d       - Number of dimensions of the encoder output.\n",
        "            maxIter - Maximum number of iterations for the Majorization Minimization.\n",
        "            ε       - Convergence threshold.\n",
        "        '''\n",
        "        # ===========================Fill This===========================#\n",
        "        # 1. Keep the model parameters.\n",
        "\n",
        "        self.d = d\n",
        "        self.ε = ε\n",
        "        self.maxIter = maxIter\n",
        "        self.mZ = None\n",
        "\n",
        "        # ===============================================================#\n",
        "\n",
        "    def fit(self, mDxx: np.ndarray):\n",
        "        '''\n",
        "        Fitting model parameters to the input.\n",
        "        Args:\n",
        "            mDxx - Input data (Distance matrix) with shape Nx x Nx.\n",
        "        Output:\n",
        "            self\n",
        "        '''\n",
        "        # ===========================Fill This===========================#\n",
        "        # 1. Build the model encoder.\n",
        "\n",
        "        Nx = mDxx.shape[0]\n",
        "        mZ_t_next = np.random.rand(Nx, self.d)\n",
        "        for i in range(self.maxIter):\n",
        "            mZ_t = mZ_t_next.copy()\n",
        "            mDzz = cdist(mZ_t, mZ_t)\n",
        "\n",
        "            mC = np.zeros(mDzz.shape)\n",
        "            mC[mDzz != 0] = -mDxx[mDzz != 0] / (mDzz[mDzz != 0])\n",
        "            mC[mDzz == 0] = 0\n",
        "\n",
        "            mB = mC - np.diag(np.sum(mC, axis=1))\n",
        "            mZ_t_next = (1 / Nx) * mB @ mZ_t\n",
        "\n",
        "            curr_dist = np.linalg.norm(mZ_t_next - mZ_t, ord='fro')\n",
        "            if curr_dist <= self.ε:\n",
        "                break\n",
        "\n",
        "        self.mZ = mZ_t_next\n",
        "\n",
        "        # ===============================================================#\n",
        "        return self\n",
        "\n",
        "    def fit_transform(self, mDxx: np.ndarray) -> np.ndarray:\n",
        "        '''\n",
        "        Applies encoding on input data.\n",
        "        Args:\n",
        "            mDxx - Input data (Distance matrix) with shape Nx x Nx.\n",
        "        Output:\n",
        "            mZ - Low dimensional representation (embeddings) with shape Nx x d.\n",
        "        '''\n",
        "        # ===========================Fill This===========================#\n",
        "        # 1. Apply the `fit()` method.\n",
        "        # 2. Applies the Majorization Minimization.\n",
        "        # 3. Encode data using the model encoder.\n",
        "        # !! Use no loops beside the main loop (`maxIter`).\n",
        "\n",
        "        self.fit(mDxx)\n",
        "        mZ = self.mZ\n",
        "\n",
        "        # ===============================================================#\n",
        "        return mZ"
      ]
    },
    {
      "attachments": {},
      "cell_type": "markdown",
      "metadata": {
        "id": "mHB66cy2jGMC"
      },
      "source": [
        "* <font color='red'>(**?**)</font> Why is the `transform()` method not asked to be implemented?\n",
        "  Make sure you understand this before proceeding."
      ]
    },
    {
      "attachments": {},
      "cell_type": "markdown",
      "metadata": {
        "id": "L34gJjWhjGMC"
      },
      "source": [
        "### 7.3. Apply MDS on Data\n",
        "\n",
        "In this section the MDS (Using the above classes) will be applied on several data sets:\n",
        "\n",
        " * Swiss Roll - Generated using `make_swiss_roll()`.\n",
        " * S Curve - Generated using `make_s_curve()`.\n",
        "\n",
        "For each data set:\n",
        "\n",
        "1. Plot the Data Set\n",
        "   Plot the Data set in 3D.\n",
        "   **This is implemented**.\n",
        "2. Calculate the Distance Matrix\n",
        "   Calculate the distance matrix of the training data (`mX1`, `mX2`).\n",
        "   For _Classic MDS_ use the _Squared Euclidean_ distance.\n",
        "   For _Metric MDS_ use the _Euclidean_ distance.\n",
        "3. Apply the MDS\n",
        "   On each data set, apply both the _Metric MDS_ and _Classic MDS_.\n",
        "4. Plot Low Dimensional Data\n",
        "   Make a scatter plot of $\\boldsymbol{Z} \\in \\mathbb{R}^{d \\times N}$ and color the data points according to `vCx1` and `vCx2`.\n",
        "   Use `d = 2`.\n",
        "\n",
        "* <font color='brown'>(**#**)</font> Pay attention to the difference in dimensions of the data to the derived Math formulations.\n",
        "* <font color='brown'>(**#**)</font> The output should be 2 figures for each data set. You may show them in a single plot using sub plots."
      ]
    },
    {
      "cell_type": "code",
      "execution_count": null,
      "metadata": {
        "id": "HCNG1qI5jGMC"
      },
      "outputs": [],
      "source": [
        "# Generate Data\n",
        "\n",
        "Nx = 1000 #<! Train Data\n",
        "Ny = 10 #<! Test Data (Out of Sample)\n",
        "\n",
        "mX1, mY1, vCx1, vCy1 = GetData(make_s_curve, Nx, Ny)\n",
        "mX2, mY2, vCx2, vCy2 = GetData(make_swiss_roll, Nx, Ny)\n",
        "\n",
        "# Centering Data\n",
        "vμX1 = np.mean(mX1, axis = 0)\n",
        "vμX2 = np.mean(mX2, axis = 0)\n",
        "\n",
        "mX1 -= np.reshape(vμX1, (1, -1))\n",
        "mY1 -= np.reshape(vμX1, (1, -1))\n",
        "mX2 -= np.reshape(vμX2, (1, -1))\n",
        "mY2 -= np.reshape(vμX2, (1, -1))"
      ]
    },
    {
      "cell_type": "code",
      "execution_count": null,
      "metadata": {
        "colab": {
          "base_uri": "https://localhost:8080/",
          "height": 364
        },
        "id": "Bx94rFhdjGMC",
        "outputId": "631bb30b-a21f-4488-cf74-285bfb07619a"
      },
      "outputs": [],
      "source": [
        "# Plot Data\n",
        "# Pay attention how to display the train (Out of Sample) data\n",
        "\n",
        "hF = plt.figure(figsize = (16, 8))\n",
        "hA1 = hF.add_subplot(1, 2, 1, projection = '3d')\n",
        "hA2 = hF.add_subplot(1, 2, 2, projection = '3d')\n",
        "hA1.view_init(elev = 15, azim = 300)\n",
        "hA2.view_init(elev = 5, azim = 285)\n",
        "\n",
        "PlotTrainTestData(mX1, mY1, vCx1, vCy1, hA1, Is3DData = True)\n",
        "PlotTrainTestData(mX2, mY2, vCx2, vCy2, hA2, Is3DData = True)"
      ]
    },
    {
      "cell_type": "code",
      "execution_count": null,
      "metadata": {
        "colab": {
          "base_uri": "https://localhost:8080/"
        },
        "id": "wdw4Ycoq4jDd",
        "outputId": "d1e638ec-88cc-4e2a-8384-ca3d88f0f93a"
      },
      "outputs": [],
      "source": [
        "mX1.shape, mY1.shape, vCx1.shape, vCx2.shape, vCy1.shape, vCy2.shape"
      ]
    },
    {
      "cell_type": "code",
      "execution_count": null,
      "metadata": {
        "colab": {
          "base_uri": "https://localhost:8080/",
          "height": 767
        },
        "id": "39LFyT6ljGMC",
        "outputId": "bb530f4a-1271-499b-ee7e-184cdf283d35"
      },
      "outputs": [],
      "source": [
        "#===========================Fill This===========================#\n",
        "# 1. Set parameter `d`.\n",
        "# 2. Calculate the distance matrices of the training data per data set.\n",
        "# 3. Apply Classic MDS and Metric MDS to each data set.\n",
        "# 4. Display results as scattered data.\n",
        "# !! The output should be a figure of 2 x 2 (Row: Method, Column: Data Set).\n",
        "\n",
        "d = 2\n",
        "methods = ['Classic MDS', 'Metric MDS']\n",
        "datas = [\n",
        "    {\n",
        "        'dataset_name': 'Curve',\n",
        "        'mX': mX1,\n",
        "        'mY': mY1,\n",
        "        'vCx': vCx1,\n",
        "    },\n",
        "    {\n",
        "        'dataset_name': 'Swiss roll',\n",
        "        'mX': mX2,\n",
        "        'mY': mY2,\n",
        "        'vCx': vCx2\n",
        "    }\n",
        "]\n",
        "\n",
        "fig, axs = plt.subplots(2, 2, figsize=(10, 10))\n",
        "\n",
        "for i, method in enumerate(methods):\n",
        "    for j, data in enumerate(datas):\n",
        "        mX = data['mX']\n",
        "        mDxx = cdist(mX, mX, metric='euclidean' if method == 'Classic MDS' else 'sqeuclidean')\n",
        "\n",
        "        mds_alg = CMDS(d) if method == 'Classic MDS' else MMDS(d)\n",
        "        mZ = mds_alg.fit_transform(mDxx)\n",
        "\n",
        "        # Plot Classic MDS for Dataset 1\n",
        "        axs[i, j].scatter(mZ[:, 0], mZ[:, 1], c= data['vCx'])\n",
        "        axs[i, j].set_title(f'{method} - {data[\"dataset_name\"]}')\n",
        "\n",
        "# Adjust the spacing between subplots\n",
        "fig.tight_layout()\n",
        "\n",
        "# Show the figure\n",
        "plt.show()\n",
        "\n",
        "#===============================================================#"
      ]
    },
    {
      "attachments": {},
      "cell_type": "markdown",
      "metadata": {
        "id": "f_bAu1frjGMC"
      },
      "source": [
        "### 7.4. Question\n",
        "\n",
        "1. Explain the differences / similarities between results.\n",
        "2. Describe the distance function which should be used for such data.\n",
        "3. What results would you expect if the distance for the Metric MDS was the _Squared Euclidean_?\n",
        "   Assume the optimal solder for this distance."
      ]
    },
    {
      "attachments": {},
      "cell_type": "markdown",
      "metadata": {
        "id": "zzvJuRDljGMC"
      },
      "source": [
        "### 7.4. Solution\n",
        "\n",
        "1. Explain the differences / similarities between results.\n",
        "2. Describe the distance function which should be used for such data.\n",
        "3. What results would you expect if the distance for the Metric MDS was the _Squared Euclidean_?\n",
        "   Assume the optimal solder for this distance.\n",
        "\n",
        "### 7.4. Solution\n",
        "\n",
        "1. The results of classical MDS and metric MDS will generally aim to be similar in terms of the overall structure and relationships between points.\n",
        "    However, there can be differences in terms of rotation  mirroring and scale.\n",
        "\n",
        "2. The choice of distance function in classical MDS and metric MDS depends on the nature of the data and the desired\n",
        "    representation of similarity or dissimilarity. In both methods, a distance or dissimilarity matrix is required as input.\n",
        "    \n",
        "    Commonly used distance functions for classical MDS:\n",
        "    Euclidean distance is appropriate when the dissimilarity data can be reasonably assumed to satisfy the triangle\n",
        "    inequality and can be represented accurately in a Euclidean space.\n",
        "    Manhattan distance is suitable when the dissimilarity data reflects differences along different dimensions or when the\n",
        "    data does not satisfy the Euclidean assumptions.\n",
        "\n",
        "    Commonly used distance functions for metric MDS:\n",
        "    Correlation-based distance measures dissimilarity based on the correlation coefficient between variables.\n",
        "    It captures the similarity or dissimilarity of patterns rather than the absolute differences in values.\n",
        "    non-metric distance measures can also be used. These measures do not necessarily satisfy the triangle inequality\n",
        "    but provide a way to handle dissimilarity data that may violate Euclidean assumptions.\n",
        "\n",
        "3. if the squared Euclidean distance is used as the distance function in metric MDS, the results would be similar to\n",
        "    using the regular Euclidean distance, but with some differences.\n",
        "    The configuration of points obtained through metric MDS with squared Euclidean distance would aim to minimize the\n",
        "    stress function based on the squared dissimilarities.\n",
        "    This may lead to a greater separation or spread of points in the low-dimensional space, emphasizing larger dissimilarities.\n",
        "\n",
        "> Royi: ❌, (1) Why would Classical and Metric be similar?  \n",
        "> Royi: ❌, (2) You didn't address the above data and would suite it.  \n",
        "> Royi: ❌, (3) What's the connection between the Classical MDS to the squared euclidean?  \n",
        "> Royi: <font color='red'>-5</font>.\n",
        "\n",
        "\n",
        "---"
      ]
    },
    {
      "attachments": {},
      "cell_type": "markdown",
      "metadata": {
        "id": "N9UXAqG4jGMC"
      },
      "source": [
        "### 7.5. Out of Sample Extension\n",
        "\n",
        "In this section the _out of sample extension_ of the _Classic MDS_ (Using the above class) will be applied.\n",
        "In this section the calculation of the out of sample extension will be done without using the test data samples (`mX1`, `mX2`)!\n",
        "\n",
        "For `mY1` and `mY2`:\n",
        "\n",
        "1. Calculate the Distance Matrix\n",
        "   Calculate `Dxy1` and `Dxy2` **without using `mX1` and `mX2`**.\n",
        "   You may use `Dxx1` and `Dxx2` in any way suitable.\n",
        "   For _Classic MDS_ use the _Squared Euclidean_ distance.\n",
        "   For _Metric MDS_ use the _Euclidean_ distance.\n",
        "3. Apply the Out of Sample Extension for Classic MDS\n",
        "   On each data set, apply the Classic MDS in _out of sample extension_ mode on `mDxy1` and `mDxy2`.\n",
        "4. Plot Low Dimensional Data\n",
        "   Make a scatter plot of $\\boldsymbol{Z} \\in \\mathbb{R}^{d \\times N}$ and color the data points according to `vCx1`, `vCx2`.\n",
        "   You should plot both the training data and the test data.\n",
        "   Use `d = 2`.\n",
        "\n",
        "* <font color='brown'>(**#**)</font> Pay attention to the difference in dimensions of the data to the derived Math formulations.\n",
        "* <font color='brown'>(**#**)</font> You may use the knowledge about the dimensions of `mX1`, `mX2`.\n",
        "* <font color='brown'>(**#**)</font> In case one fails on (1) one may calculate `mDxy` using `mX` (Points will be reduced).\n",
        "* <font color='brown'>(**#**)</font> The output should be 2 figures for each data set. You may show them in a single plot using sub plots."
      ]
    },
    {
      "cell_type": "code",
      "execution_count": null,
      "metadata": {
        "colab": {
          "base_uri": "https://localhost:8080/",
          "height": 408
        },
        "id": "wcVAc-tYjGMD",
        "outputId": "36724a20-fbe1-4f22-e82b-c8b5b05f657d"
      },
      "outputs": [],
      "source": [
        "#===========================Fill This===========================#\n",
        "# 1. Set parameter `d`.\n",
        "# 2. Calculate the distance matrices of the test data per data set from `mDxx1` and `mDxx2`.\n",
        "# 3. Apply Classic MDS to each data set.\n",
        "#    Apply `fit()` then `transform()` on `mDxx1` and `mDxx2`.\n",
        "#    Apply `transform()` on `mDxy1` and `mDxy2`.\n",
        "# 4. Display results as scattered data.\n",
        "#    Display both the train and test data on the same axes (See above).\n",
        "# !! The output should be a figure of 1 x 2 (Row: Method, Column: Data Set).\n",
        "# !! Hint: You should recover the data from `mDxx`.\n",
        "\n",
        "d = 2\n",
        "\n",
        "fig, axs = plt.subplots(2, 2, figsize=(16, 8))\n",
        "\n",
        "isUsing_mXs = [False, True]\n",
        "\n",
        "for i, isUsing_mX in enumerate(isUsing_mXs):\n",
        "    for j, data in enumerate(datas):\n",
        "        mX = data['mX']\n",
        "        mY = data['mY']\n",
        "        vCx = data['vCx']\n",
        "\n",
        "        mDxx = cdist(mX, mX, metric='sqeuclidean')\n",
        "\n",
        "        cmds = CMDS(d)\n",
        "        mZx = cmds.fit_transform(mDxx)\n",
        "\n",
        "        if isUsing_mX:\n",
        "            mDxy = cdist(mX, mY, metric='sqeuclidean')\n",
        "        else:\n",
        "            _, d_origin = mY.shape\n",
        "            v_d, Σ_d_power2, _ = sp.sparse.linalg.svds(cmds.mDxx, k=d_origin)\n",
        "            Σ_d = np.diag(np.sqrt(Σ_d_power2))\n",
        "            mX = (Σ_d @ v_d.T).T\n",
        "            mDxy = cdist(mY, mX, metric='sqeuclidean').T\n",
        "\n",
        "        mZy = cmds.transform(mDxy)\n",
        "\n",
        "        axs[i][j].scatter(mZx[:, 0], mZx[:, 1], c = vCx, edgecolor = 'k', alpha = 1, label = 'Train')\n",
        "        axs[i][j].scatter(mZy[:, 0], mZy[:, 1], s = 100, c = 'r', marker = '*', alpha = 1, label = 'Test')\n",
        "        axs[i][j].set_title(f'Classic MDS - {data[\"dataset_name\"]} [{\"Using\" if isUsing_mX else \"Without using\"} mX]')\n",
        "\n",
        "plt.show()\n",
        "\n",
        "#===============================================================#"
      ]
    },
    {
      "attachments": {},
      "cell_type": "markdown",
      "metadata": {
        "id": "QhuMYwodjGMD"
      },
      "source": [
        "### 7.6. Question\n",
        "\n",
        "Are the results above good?\n",
        "Will they match the results if one would calculate `mDxy` from `mX` and `mY`?"
      ]
    },
    {
      "attachments": {},
      "cell_type": "markdown",
      "metadata": {
        "id": "ImRKCT4GjGMD"
      },
      "source": [
        "### 7.6. Solution\n",
        "\n",
        "Recovering `mX1` using Classic MDS and `mDxx` may not be good due to the translation and rotation ambiguity that arises during the recovery process. This ambiguity is caused by the fact that Classic MDS cannot uniquely determine the translation, rotation, and reflection of the recovered configuration.\n",
        "\n",
        "On the other hand, if we calculate `mDxy` directly from `mX` and `mY`, the results are likely to be good. By using `mX` and `mY` to calculate the dissimilarity matrix `mDxy`, we eliminate the translation and rotation ambiguity present when recovering `mX` from `mDxx`.\n",
        "\n",
        "Calculating mDxy from `mX` and `mY` allows us to preserve the inherent relationships and structure of the data, resulting in a more accurate representation in the low-dimensional space.\n",
        "\n",
        "---"
      ]
    }
  ],
  "metadata": {
    "colab": {
      "provenance": []
    },
    "kernelspec": {
      "display_name": "Python 3",
      "language": "python",
      "name": "python3"
    },
    "language_info": {
      "codemirror_mode": {
        "name": "ipython",
        "version": 3
      },
      "file_extension": ".py",
      "mimetype": "text/x-python",
      "name": "python",
      "nbconvert_exporter": "python",
      "pygments_lexer": "ipython3",
      "version": "3.11.4"
    },
    "toc": {
      "base_numbering": 1,
      "nav_menu": {},
      "number_sections": false,
      "sideBar": true,
      "skip_h1_title": false,
      "title_cell": "Table of Contents",
      "title_sidebar": "Contents",
      "toc_cell": false,
      "toc_position": {},
      "toc_section_display": true,
      "toc_window_display": true
    },
    "varInspector": {
      "cols": {
        "lenName": 16,
        "lenType": 16,
        "lenVar": 40
      },
      "kernels_config": {
        "python": {
          "delete_cmd_postfix": "",
          "delete_cmd_prefix": "del ",
          "library": "var_list.py",
          "varRefreshCmd": "print(var_dic_list())"
        },
        "r": {
          "delete_cmd_postfix": ") ",
          "delete_cmd_prefix": "rm(",
          "library": "var_list.r",
          "varRefreshCmd": "cat(var_dic_list()) "
        }
      },
      "types_to_exclude": [
        "module",
        "function",
        "builtin_function_or_method",
        "instance",
        "_Feature"
      ],
      "window_display": false
    },
    "vscode": {
      "interpreter": {
        "hash": "39577bab1f263e62e0b74f5b8086bd735049bf4751f6562b2d4b2969dc308293"
      }
    }
  },
  "nbformat": 4,
  "nbformat_minor": 0
}
